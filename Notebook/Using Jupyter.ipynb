{
 "cells": [
  {
   "cell_type": "markdown",
   "metadata": {},
   "source": [
    "## Using and navigating Jupyter notebooks\n"
   ]
  },
  {
   "cell_type": "markdown",
   "metadata": {},
   "source": [
    "Adapted by [Jen Ferguson](https://library.northeastern.edu/about/library-staff-directory/jen-ferguson) from notebooks created by [Nathan Kelber](http://nkelber.com)& Ted Lawless for [JSTOR Labs](https://labs.jstor.org/) under [Creative Commons CC BY License](https://creativecommons.org/licenses/by/4.0/)."
   ]
  },
  {
   "cell_type": "markdown",
   "metadata": {},
   "source": [
    "What is this thing?\n",
    "\n",
    "**Jupyter combines interwoven text, data, and code, in a format that runs in a web browser.**\n",
    "* 'Jupyter' = JUlia, PYthon, and R - but it's really language-agnostic\n",
    "* Jupyter Notebooks let you run code immediately\n",
    "* Jupyter Notebooks can connect to a server that has the right environment/dependencies to execute the code successfully. "
   ]
  },
  {
   "cell_type": "markdown",
   "metadata": {},
   "source": [
    "Jupyter Notebooks are collections of **cells that do different things.**  \n",
    "\n",
    "You can **navigate** through the cells of a notebook (including this one) by using the **'run' command** in the toolbar above."
   ]
  },
  {
   "cell_type": "markdown",
   "metadata": {},
   "source": [
    "**What do the cells do?**  For this exercise, we'll talk about 2 kinds of cells.  \n",
    "* This cell is an example of a **markdown** cell.  Markdown cells just contain text, and are used for commenting code, creating headings, etc.\n",
    "\n",
    "* There are also executable **code cells**.   \n",
    "\n",
    "    * How does this magic happen?  There's a kernel, or computational engine, that runs the code inside your Notebook.  In this case our kernel = Python 3, as you can see in the top right corner of this page."
   ]
  },
  {
   "cell_type": "markdown",
   "metadata": {},
   "source": [
    "Let's try running a simple code cell to see what happens. Don't worry, you can't break it! If you get stuck you an always reset the notebook by resetting the kernel (the 'refresh' symbol in the toolbar).\n",
    "\n",
    "Modify the cell below by:\n",
    "1. Selecting the cell. The cell will be highlighted in <font color='blue'>**blue**</font> when selected, then will change to <font color='green'>**green**</font> when you begin to edit it\n",
    "2. Delete the text that says <font color='red'>**'yourname'**</font> (but keep the ' 'marks)\n",
    "3. Type your name inside the '  's instead, and finally\n",
    "4. Hit 'Run' in the toolbar above."
   ]
  },
  {
   "cell_type": "code",
   "execution_count": null,
   "metadata": {},
   "outputs": [],
   "source": [
    "def print_hey(recipient):\n",
    "    return 'Hey, {}!'.format(recipient)\n",
    "print_hey('yourname')"
   ]
  },
  {
   "cell_type": "markdown",
   "metadata": {},
   "source": [
    "As you can see, when you run a code cell the output appears below it in another cell. The output after you run a cell essentially forms part of the document as you work through it. \n",
    "\n",
    "Note that some code cells will *not* show output after they've run. We had to explicitly tell this cell to show us its output with the print command. Try running the following code cell, which is exactly the same as the previous one minus the print command, to see what happens."
   ]
  },
  {
   "cell_type": "code",
   "execution_count": null,
   "metadata": {},
   "outputs": [],
   "source": [
    "def print_hey(recipient):\n",
    "    return 'Hey, {}!'.format(recipient)"
   ]
  },
  {
   "cell_type": "markdown",
   "metadata": {},
   "source": [
    "So how will you know if a code cell has run if there's no output? You may have noticed the In [ # ] and Out [ # ] to the left of the cells above. Once a number appears in those brackets, the code cell has run. If you're doing something computationally complex that takes a little while to process, Jupyter shows that a cell is currently running by displaying an asterisk in the brackets like so: [ * ]  \n",
    "\n",
    "The notebook will number functions in the order that you run the cells. In general, you'll want to run cells in sequential order as you work through a notebook to avoid errors."
   ]
  },
  {
   "cell_type": "markdown",
   "metadata": {},
   "source": [
    "Questions? Contact us - we're happy to help! library-rds@northeastern.edu"
   ]
  }
 ],
 "metadata": {
  "kernelspec": {
   "display_name": "Python 3",
   "language": "python",
   "name": "python3"
  },
  "language_info": {
   "codemirror_mode": {
    "name": "ipython",
    "version": 3
   },
   "file_extension": ".py",
   "mimetype": "text/x-python",
   "name": "python",
   "nbconvert_exporter": "python",
   "pygments_lexer": "ipython3",
   "version": "3.8.3"
  }
 },
 "nbformat": 4,
 "nbformat_minor": 4
}
